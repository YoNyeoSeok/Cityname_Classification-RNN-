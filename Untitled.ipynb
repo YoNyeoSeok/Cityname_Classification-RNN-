{
 "cells": [
  {
   "cell_type": "code",
   "execution_count": 8,
   "metadata": {},
   "outputs": [
    {
     "ename": "TypeError",
     "evalue": "__init__() got multiple values for argument 'hidden_size'",
     "output_type": "error",
     "traceback": [
      "\u001b[0;31m---------------------------------------------------------------------------\u001b[0m",
      "\u001b[0;31mTypeError\u001b[0m                                 Traceback (most recent call last)",
      "\u001b[0;32m<ipython-input-8-186639c3d14c>\u001b[0m in \u001b[0;36m<module>\u001b[0;34m()\u001b[0m\n\u001b[1;32m      9\u001b[0m \u001b[0;31m#buildModel\u001b[0m\u001b[0;34m\u001b[0m\u001b[0;34m\u001b[0m\u001b[0;34m\u001b[0m\u001b[0m\n\u001b[1;32m     10\u001b[0m \u001b[0;31m# rnn = RNN(len(all_letters))\u001b[0m\u001b[0;34m\u001b[0m\u001b[0;34m\u001b[0m\u001b[0;34m\u001b[0m\u001b[0m\n\u001b[0;32m---> 11\u001b[0;31m \u001b[0mrnn\u001b[0m \u001b[0;34m=\u001b[0m \u001b[0mRNN\u001b[0m\u001b[0;34m(\u001b[0m\u001b[0mlen\u001b[0m\u001b[0;34m(\u001b[0m\u001b[0mall_letters\u001b[0m\u001b[0;34m)\u001b[0m\u001b[0;34m,\u001b[0m \u001b[0mhidden_nodes\u001b[0m\u001b[0;34m,\u001b[0m \u001b[0mhidden_size\u001b[0m\u001b[0;34m=\u001b[0m\u001b[0;36m10\u001b[0m\u001b[0;34m)\u001b[0m\u001b[0;34m\u001b[0m\u001b[0;34m\u001b[0m\u001b[0m\n\u001b[0m\u001b[1;32m     12\u001b[0m \u001b[0;31m# rnn = RNN(len(all_letters), hidden_size=hidden_nodes)\u001b[0m\u001b[0;34m\u001b[0m\u001b[0;34m\u001b[0m\u001b[0;34m\u001b[0m\u001b[0m\n\u001b[1;32m     13\u001b[0m \u001b[0mprint\u001b[0m\u001b[0;34m(\u001b[0m\u001b[0mrnn\u001b[0m\u001b[0;34m.\u001b[0m\u001b[0m__dict__\u001b[0m\u001b[0;34m)\u001b[0m\u001b[0;34m\u001b[0m\u001b[0;34m\u001b[0m\u001b[0m\n",
      "\u001b[0;32m~/yys/study/Vision_and_Language/Cityname_Classification/model.py\u001b[0m in \u001b[0;36m__init__\u001b[0;34m(self, *args, **kwargs)\u001b[0m\n\u001b[1;32m     36\u001b[0m             \u001b[0mself\u001b[0m\u001b[0;34m.\u001b[0m\u001b[0mhidden_sizes\u001b[0m \u001b[0;34m=\u001b[0m \u001b[0mkwargs\u001b[0m\u001b[0;34m.\u001b[0m\u001b[0mpop\u001b[0m\u001b[0;34m(\u001b[0m\u001b[0;34m'hidden_sizes'\u001b[0m\u001b[0;34m)\u001b[0m\u001b[0;34m\u001b[0m\u001b[0;34m\u001b[0m\u001b[0m\n\u001b[1;32m     37\u001b[0m         \u001b[0;32melif\u001b[0m \u001b[0mlen\u001b[0m\u001b[0;34m(\u001b[0m\u001b[0margs\u001b[0m\u001b[0;34m)\u001b[0m \u001b[0;34m>\u001b[0m \u001b[0;36m1\u001b[0m\u001b[0;34m:\u001b[0m\u001b[0;34m\u001b[0m\u001b[0;34m\u001b[0m\u001b[0m\n\u001b[0;32m---> 38\u001b[0;31m             \u001b[0mself\u001b[0m\u001b[0;34m.\u001b[0m\u001b[0mhidden_sizes\u001b[0m \u001b[0;34m=\u001b[0m \u001b[0mkwargs\u001b[0m\u001b[0;34m.\u001b[0m\u001b[0mpop\u001b[0m\u001b[0;34m(\u001b[0m\u001b[0;36m1\u001b[0m\u001b[0;34m)\u001b[0m\u001b[0;34m\u001b[0m\u001b[0;34m\u001b[0m\u001b[0m\n\u001b[0m\u001b[1;32m     39\u001b[0m \u001b[0;34m\u001b[0m\u001b[0m\n\u001b[1;32m     40\u001b[0m         \u001b[0mrnns\u001b[0m \u001b[0;34m=\u001b[0m \u001b[0;34m[\u001b[0m\u001b[0;34m]\u001b[0m\u001b[0;34m\u001b[0m\u001b[0;34m\u001b[0m\u001b[0m\n",
      "\u001b[0;32m~/anaconda3/envs/py36/lib/python3.6/site-packages/torch/nn/modules/rnn.py\u001b[0m in \u001b[0;36m__init__\u001b[0;34m(self, *args, **kwargs)\u001b[0m\n\u001b[1;32m    326\u001b[0m             \u001b[0mmode\u001b[0m \u001b[0;34m=\u001b[0m \u001b[0;34m'RNN_TANH'\u001b[0m\u001b[0;34m\u001b[0m\u001b[0;34m\u001b[0m\u001b[0m\n\u001b[1;32m    327\u001b[0m \u001b[0;34m\u001b[0m\u001b[0m\n\u001b[0;32m--> 328\u001b[0;31m         \u001b[0msuper\u001b[0m\u001b[0;34m(\u001b[0m\u001b[0mRNN\u001b[0m\u001b[0;34m,\u001b[0m \u001b[0mself\u001b[0m\u001b[0;34m)\u001b[0m\u001b[0;34m.\u001b[0m\u001b[0m__init__\u001b[0m\u001b[0;34m(\u001b[0m\u001b[0mmode\u001b[0m\u001b[0;34m,\u001b[0m \u001b[0;34m*\u001b[0m\u001b[0margs\u001b[0m\u001b[0;34m,\u001b[0m \u001b[0;34m**\u001b[0m\u001b[0mkwargs\u001b[0m\u001b[0;34m)\u001b[0m\u001b[0;34m\u001b[0m\u001b[0;34m\u001b[0m\u001b[0m\n\u001b[0m\u001b[1;32m    329\u001b[0m \u001b[0;34m\u001b[0m\u001b[0m\n\u001b[1;32m    330\u001b[0m \u001b[0;34m\u001b[0m\u001b[0m\n",
      "\u001b[0;31mTypeError\u001b[0m: __init__() got multiple values for argument 'hidden_size'"
     ]
    }
   ],
   "source": [
    "from data import *\n",
    "from model import *\n",
    "import numpy as np\n",
    "\n",
    "# getData\n",
    "all_letters, all_categories, category_lines, val_category_lines = getData()\n",
    "\n",
    "hidden_nodes = 100\n",
    "#buildModel\n",
    "# rnn = RNN(len(all_letters))\n",
    "rnn = RNN(len(all_letters), hidden_nodes, hidden_size=10)\n",
    "# rnn = RNN(len(all_letters), hidden_size=hidden_nodes)\n",
    "print(rnn.__dict__)"
   ]
  },
  {
   "cell_type": "code",
   "execution_count": 119,
   "metadata": {},
   "outputs": [],
   "source": [
    "input_seq = 1\n",
    "input_fea = 3\n",
    "hidden_fea = 20\n",
    "num_layers = 2\n",
    "rnn = RNN(input_size=input_fea, hidden_size=hidden_fea, num_layers=num_layers)\n",
    "input = torch.randn(input_seq, 1, input_fea)*10\n",
    "h0 = torch.randn(num_layers, 1, hidden_fea)\n",
    "output, hn = rnn(input, h0)\n",
    "# print(rnn.__dict__)"
   ]
  },
  {
   "cell_type": "code",
   "execution_count": 103,
   "metadata": {},
   "outputs": [
    {
     "name": "stdout",
     "output_type": "stream",
     "text": [
      "tensor([[[20.6891, -0.9757, -8.8453]]]) tensor([[[ 0.9989, -0.2683, -0.9763,  1.1355, -0.8494, -0.5914, -0.8898,\n",
      "           1.0326, -0.5365, -0.9535, -1.0763,  0.4010, -0.0164, -1.7070,\n",
      "           0.9669, -1.9665,  1.1454, -0.0819,  0.2081, -1.1453]],\n",
      "\n",
      "        [[-0.9946,  2.0142, -0.9884, -0.5420, -0.2021, -1.6777,  0.7188,\n",
      "           0.5871, -0.6672,  0.2774,  1.3866, -0.5944, -0.4019, -1.2837,\n",
      "           0.7007, -0.1834,  1.0597,  0.1667, -0.1646,  0.6191]],\n",
      "\n",
      "        [[ 0.3096, -0.1228,  0.9068, -0.3923, -0.4416,  1.0205,  0.1803,\n",
      "           0.4896,  0.5266,  0.8192, -0.4030,  0.4655,  1.5651, -1.4580,\n",
      "          -0.4133, -0.0124,  1.0472,  0.8935, -0.7900,  0.2159]]])\n",
      "tensor([[[-0.5784,  0.7910, -0.1172, -0.1101,  0.2891, -0.0613, -0.5095,\n",
      "           0.5533,  0.6021,  0.4248, -0.1831,  0.3273, -0.0167,  0.7799,\n",
      "           0.1955,  0.0613,  0.0000,  0.2166,  0.1396,  0.6745]]],\n",
      "       grad_fn=<CatBackward>)\n",
      "tensor([[[-0.9832, -0.9878,  0.9786,  0.9876,  0.9626, -0.7170,  0.9954,\n",
      "           0.7855, -1.0000,  0.9879,  0.9992,  0.9960,  0.8489,  0.9581,\n",
      "           0.9452,  0.9969,  0.9951,  0.8582, -0.9991,  0.8322]],\n",
      "\n",
      "        [[-0.9152, -0.4794, -0.3902,  0.7486,  0.4123,  0.2550, -0.7437,\n",
      "          -0.3185, -0.2200, -0.9234, -0.3194, -0.8264, -0.0726,  0.9404,\n",
      "          -0.6844, -0.8941, -0.5291,  0.3374,  0.4276,  0.5763]],\n",
      "\n",
      "        [[-0.5784,  0.7910, -0.1172, -0.1101,  0.2891, -0.0613, -0.5095,\n",
      "           0.5533,  0.6021,  0.4248, -0.1831,  0.3273, -0.0167,  0.7799,\n",
      "           0.1955,  0.0613,  0.0000,  0.2166,  0.1396,  0.6745]]],\n",
      "       grad_fn=<ViewBackward>)\n",
      "tensor(-0.5784, grad_fn=<MinBackward1>) tensor(0.7910, grad_fn=<MaxBackward1>)\n",
      "tensor(-1.0000, grad_fn=<MinBackward1>) tensor(0.9992, grad_fn=<MaxBackward1>)\n",
      "torch.Size([1, 1, 20]) torch.Size([3, 1, 20])\n",
      "(1, 1, 20) (1, 1, 20)\n",
      "[[ True  True  True  True  True  True  True  True  True  True  True  True\n",
      "   True  True  True  True  True  True  True  True]]\n"
     ]
    }
   ],
   "source": [
    "print(input, h0)\n",
    "print(output)\n",
    "print(hn)\n",
    "print(output.min(), output.max())\n",
    "print(hn.min(), hn.max())\n",
    "print(output.shape, hn.shape)\n",
    "print((input_seq, 1, hidden_fea), (1, 1, hidden_fea))\n",
    "print(np.equal(output[-1].detach().numpy(), hn[-1].detach().numpy()))"
   ]
  },
  {
   "cell_type": "code",
   "execution_count": 120,
   "metadata": {},
   "outputs": [
    {
     "name": "stdout",
     "output_type": "stream",
     "text": [
      "weight_ih_l0 torch.Size([20, 3])\n",
      "weight_hh_l0 torch.Size([20, 20])\n",
      "bias_ih_l0 torch.Size([20])\n",
      "bias_hh_l0 torch.Size([20])\n",
      "weight_ih_l1 torch.Size([20, 20])\n",
      "weight_hh_l1 torch.Size([20, 20])\n",
      "bias_ih_l1 torch.Size([20])\n",
      "bias_hh_l1 torch.Size([20])\n"
     ]
    }
   ],
   "source": [
    "for param in rnn._parameters:\n",
    "    print(param, rnn._parameters[param].shape)"
   ]
  },
  {
   "cell_type": "code",
   "execution_count": 131,
   "metadata": {},
   "outputs": [
    {
     "name": "stdout",
     "output_type": "stream",
     "text": [
      "tensor([[[-0.6537,  0.3879, -0.2379, -0.3383, -0.0616,  0.1009, -0.0191,\n",
      "          -0.6805,  0.0081, -0.1830,  0.1720, -0.1862, -0.1665,  0.5498,\n",
      "          -0.6459,  0.3523,  0.3178,  0.1234, -0.4741,  0.6431]],\n",
      "\n",
      "        [[ 0.5157,  0.1852,  0.4873, -0.5654, -0.2370,  0.9025,  0.2770,\n",
      "           0.5594,  0.2810, -0.5099,  0.7857,  0.3751, -0.4997, -0.8451,\n",
      "           0.3261,  0.6453,  0.6683, -0.1257, -0.5505, -0.1491]]],\n",
      "       grad_fn=<CopySlices>)\n",
      "tensor([[[-0.6537,  0.3879, -0.2379, -0.3383, -0.0616,  0.1009, -0.0191,\n",
      "          -0.6805,  0.0081, -0.1830,  0.1720, -0.1862, -0.1665,  0.5498,\n",
      "          -0.6459,  0.3523,  0.3178,  0.1234, -0.4741,  0.6431]],\n",
      "\n",
      "        [[ 0.5157,  0.1852,  0.4873, -0.5654, -0.2370,  0.9025,  0.2770,\n",
      "           0.5594,  0.2810, -0.5099,  0.7857,  0.3751, -0.4997, -0.8451,\n",
      "           0.3261,  0.6453,  0.6683, -0.1257, -0.5505, -0.1491]]],\n",
      "       grad_fn=<ViewBackward>)\n",
      "True\n"
     ]
    }
   ],
   "source": [
    "h1 = torch.randn(num_layers, 1, hidden_fea)\n",
    "h1[0] = torch.tanh(input @ rnn._parameters['weight_ih_l0'].t() + rnn._parameters['bias_ih_l0']\n",
    "                + h0[0] @ rnn._parameters['weight_hh_l0'].t() + rnn._parameters['bias_hh_l0'])\n",
    "h1[1] = torch.tanh(h1[0] @ rnn._parameters['weight_ih_l1'].t() + rnn._parameters['bias_ih_l1']\n",
    "                + h0[1] @ rnn._parameters['weight_hh_l1'].t() + rnn._parameters['bias_hh_l1'])\n",
    "print(h1)\n",
    "print(hn)\n",
    "print(np.allclose(h1.detach().numpy(),hn.detach().numpy()))\n"
   ]
  },
  {
   "cell_type": "code",
   "execution_count": 111,
   "metadata": {},
   "outputs": [
    {
     "name": "stdout",
     "output_type": "stream",
     "text": [
      "<built-in method t of Parameter object at 0x7fcf7ce27af8>\n"
     ]
    }
   ],
   "source": [
    "print(rnn._parameters['weight_ih_l0'].t)"
   ]
  },
  {
   "cell_type": "code",
   "execution_count": 3,
   "metadata": {},
   "outputs": [
    {
     "ename": "NameError",
     "evalue": "name 'rnn' is not defined",
     "output_type": "error",
     "traceback": [
      "\u001b[0;31m---------------------------------------------------------------------------\u001b[0m",
      "\u001b[0;31mNameError\u001b[0m                                 Traceback (most recent call last)",
      "\u001b[0;32m<ipython-input-3-a9d7f721acba>\u001b[0m in \u001b[0;36m<module>\u001b[0;34m()\u001b[0m\n\u001b[0;32m----> 1\u001b[0;31m \u001b[0mrnn\u001b[0m\u001b[0;34m.\u001b[0m\u001b[0m__dict__\u001b[0m\u001b[0;34m\u001b[0m\u001b[0;34m\u001b[0m\u001b[0m\n\u001b[0m",
      "\u001b[0;31mNameError\u001b[0m: name 'rnn' is not defined"
     ]
    }
   ],
   "source": [
    "rnn.__dict__"
   ]
  },
  {
   "cell_type": "code",
   "execution_count": null,
   "metadata": {},
   "outputs": [],
   "source": []
  }
 ],
 "metadata": {
  "kernelspec": {
   "display_name": "py36",
   "language": "python",
   "name": "py36"
  },
  "language_info": {
   "codemirror_mode": {
    "name": "ipython",
    "version": 3
   },
   "file_extension": ".py",
   "mimetype": "text/x-python",
   "name": "python",
   "nbconvert_exporter": "python",
   "pygments_lexer": "ipython3",
   "version": "3.6.8"
  }
 },
 "nbformat": 4,
 "nbformat_minor": 2
}
